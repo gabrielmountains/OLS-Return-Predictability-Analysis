{
  "cells": [
    {
      "cell_type": "markdown",
      "source": [
        "# OLS Return Predictability Analysis"
      ],
      "metadata": {
        "id": "GVKQFe1BvQso"
      }
    },
    {
      "cell_type": "markdown",
      "metadata": {
        "id": "Lr0xDIMYvH59"
      },
      "source": [
        "In this notebook we will analyze some of the more popular variables used to predict equity market returns.\n",
        "\n",
        "The packages I will use are mostly the same as before.  Regressions are done with statsmodels.api.  This is slightly different from statsmodels.formula.api.  They each have an OLS regression function, but they are used in different ways.  Both are useful in certain situations."
      ]
    },
    {
      "cell_type": "code",
      "execution_count": null,
      "metadata": {
        "id": "sKx35vzDvH6A"
      },
      "outputs": [],
      "source": [
        "import pandas as pd\n",
        "import numpy as np\n",
        "import matplotlib.pyplot as plt\n",
        "import statsmodels.api as sm\n",
        "import statsmodels.formula.api as smf"
      ]
    },
    {
      "cell_type": "markdown",
      "metadata": {
        "id": "AHS6GKXhvH6B"
      },
      "source": [
        "The data we're going to read in comes from Amit Goyal's website.  It includes a number of variables that are useful in predicting future returns.  It also includes the returns themselves."
      ]
    },
    {
      "cell_type": "code",
      "execution_count": null,
      "metadata": {
        "id": "SxSof2HQvH6B",
        "outputId": "3659f2fc-b05d-4728-9bbe-df248bb010f6"
      },
      "outputs": [
        {
          "name": "stderr",
          "output_type": "stream",
          "text": [
            "C:\\Users\\shaneshe\\Anaconda3\\lib\\site-packages\\openpyxl\\worksheet\\header_footer.py:48: UserWarning: Cannot parse header or footer so it will be ignored\n",
            "  warn(\"\"\"Cannot parse header or footer so it will be ignored\"\"\")\n"
          ]
        },
        {
          "data": {
            "text/html": [
              "<div>\n",
              "<style scoped>\n",
              "    .dataframe tbody tr th:only-of-type {\n",
              "        vertical-align: middle;\n",
              "    }\n",
              "\n",
              "    .dataframe tbody tr th {\n",
              "        vertical-align: top;\n",
              "    }\n",
              "\n",
              "    .dataframe thead th {\n",
              "        text-align: right;\n",
              "    }\n",
              "</style>\n",
              "<table border=\"1\" class=\"dataframe\">\n",
              "  <thead>\n",
              "    <tr style=\"text-align: right;\">\n",
              "      <th></th>\n",
              "      <th>price</th>\n",
              "      <th>d12</th>\n",
              "      <th>e12</th>\n",
              "      <th>ret</th>\n",
              "      <th>retx</th>\n",
              "      <th>AAA</th>\n",
              "      <th>BAA</th>\n",
              "      <th>lty</th>\n",
              "      <th>ltr</th>\n",
              "      <th>corpr</th>\n",
              "      <th>...</th>\n",
              "      <th>ygap</th>\n",
              "      <th>rdsp</th>\n",
              "      <th>rsvix</th>\n",
              "      <th>gpce</th>\n",
              "      <th>gip</th>\n",
              "      <th>tchi</th>\n",
              "      <th>house</th>\n",
              "      <th>avgcor</th>\n",
              "      <th>shtint</th>\n",
              "      <th>disag</th>\n",
              "    </tr>\n",
              "    <tr>\n",
              "      <th>yyyymm</th>\n",
              "      <th></th>\n",
              "      <th></th>\n",
              "      <th></th>\n",
              "      <th></th>\n",
              "      <th></th>\n",
              "      <th></th>\n",
              "      <th></th>\n",
              "      <th></th>\n",
              "      <th></th>\n",
              "      <th></th>\n",
              "      <th></th>\n",
              "      <th></th>\n",
              "      <th></th>\n",
              "      <th></th>\n",
              "      <th></th>\n",
              "      <th></th>\n",
              "      <th></th>\n",
              "      <th></th>\n",
              "      <th></th>\n",
              "      <th></th>\n",
              "      <th></th>\n",
              "    </tr>\n",
              "  </thead>\n",
              "  <tbody>\n",
              "    <tr>\n",
              "      <th>187101</th>\n",
              "      <td>4.44</td>\n",
              "      <td>0.26</td>\n",
              "      <td>0.4</td>\n",
              "      <td>NaN</td>\n",
              "      <td>NaN</td>\n",
              "      <td>NaN</td>\n",
              "      <td>NaN</td>\n",
              "      <td>NaN</td>\n",
              "      <td>NaN</td>\n",
              "      <td>NaN</td>\n",
              "      <td>...</td>\n",
              "      <td>NaN</td>\n",
              "      <td>NaN</td>\n",
              "      <td>NaN</td>\n",
              "      <td>NaN</td>\n",
              "      <td>NaN</td>\n",
              "      <td>NaN</td>\n",
              "      <td>NaN</td>\n",
              "      <td>NaN</td>\n",
              "      <td>NaN</td>\n",
              "      <td>NaN</td>\n",
              "    </tr>\n",
              "    <tr>\n",
              "      <th>187102</th>\n",
              "      <td>4.50</td>\n",
              "      <td>0.26</td>\n",
              "      <td>0.4</td>\n",
              "      <td>NaN</td>\n",
              "      <td>NaN</td>\n",
              "      <td>NaN</td>\n",
              "      <td>NaN</td>\n",
              "      <td>NaN</td>\n",
              "      <td>NaN</td>\n",
              "      <td>NaN</td>\n",
              "      <td>...</td>\n",
              "      <td>NaN</td>\n",
              "      <td>NaN</td>\n",
              "      <td>NaN</td>\n",
              "      <td>NaN</td>\n",
              "      <td>NaN</td>\n",
              "      <td>NaN</td>\n",
              "      <td>NaN</td>\n",
              "      <td>NaN</td>\n",
              "      <td>NaN</td>\n",
              "      <td>NaN</td>\n",
              "    </tr>\n",
              "    <tr>\n",
              "      <th>187103</th>\n",
              "      <td>4.61</td>\n",
              "      <td>0.26</td>\n",
              "      <td>0.4</td>\n",
              "      <td>NaN</td>\n",
              "      <td>NaN</td>\n",
              "      <td>NaN</td>\n",
              "      <td>NaN</td>\n",
              "      <td>NaN</td>\n",
              "      <td>NaN</td>\n",
              "      <td>NaN</td>\n",
              "      <td>...</td>\n",
              "      <td>NaN</td>\n",
              "      <td>NaN</td>\n",
              "      <td>NaN</td>\n",
              "      <td>NaN</td>\n",
              "      <td>NaN</td>\n",
              "      <td>NaN</td>\n",
              "      <td>NaN</td>\n",
              "      <td>NaN</td>\n",
              "      <td>NaN</td>\n",
              "      <td>NaN</td>\n",
              "    </tr>\n",
              "    <tr>\n",
              "      <th>187104</th>\n",
              "      <td>4.74</td>\n",
              "      <td>0.26</td>\n",
              "      <td>0.4</td>\n",
              "      <td>NaN</td>\n",
              "      <td>NaN</td>\n",
              "      <td>NaN</td>\n",
              "      <td>NaN</td>\n",
              "      <td>NaN</td>\n",
              "      <td>NaN</td>\n",
              "      <td>NaN</td>\n",
              "      <td>...</td>\n",
              "      <td>NaN</td>\n",
              "      <td>NaN</td>\n",
              "      <td>NaN</td>\n",
              "      <td>NaN</td>\n",
              "      <td>NaN</td>\n",
              "      <td>NaN</td>\n",
              "      <td>NaN</td>\n",
              "      <td>NaN</td>\n",
              "      <td>NaN</td>\n",
              "      <td>NaN</td>\n",
              "    </tr>\n",
              "    <tr>\n",
              "      <th>187105</th>\n",
              "      <td>4.86</td>\n",
              "      <td>0.26</td>\n",
              "      <td>0.4</td>\n",
              "      <td>NaN</td>\n",
              "      <td>NaN</td>\n",
              "      <td>NaN</td>\n",
              "      <td>NaN</td>\n",
              "      <td>NaN</td>\n",
              "      <td>NaN</td>\n",
              "      <td>NaN</td>\n",
              "      <td>...</td>\n",
              "      <td>NaN</td>\n",
              "      <td>NaN</td>\n",
              "      <td>NaN</td>\n",
              "      <td>NaN</td>\n",
              "      <td>NaN</td>\n",
              "      <td>NaN</td>\n",
              "      <td>NaN</td>\n",
              "      <td>NaN</td>\n",
              "      <td>NaN</td>\n",
              "      <td>NaN</td>\n",
              "    </tr>\n",
              "  </tbody>\n",
              "</table>\n",
              "<p>5 rows × 56 columns</p>\n",
              "</div>"
            ],
            "text/plain": [
              "        price   d12  e12  ret  retx  AAA  BAA  lty  ltr  corpr  ...  ygap  \\\n",
              "yyyymm                                                          ...         \n",
              "187101   4.44  0.26  0.4  NaN   NaN  NaN  NaN  NaN  NaN    NaN  ...   NaN   \n",
              "187102   4.50  0.26  0.4  NaN   NaN  NaN  NaN  NaN  NaN    NaN  ...   NaN   \n",
              "187103   4.61  0.26  0.4  NaN   NaN  NaN  NaN  NaN  NaN    NaN  ...   NaN   \n",
              "187104   4.74  0.26  0.4  NaN   NaN  NaN  NaN  NaN  NaN    NaN  ...   NaN   \n",
              "187105   4.86  0.26  0.4  NaN   NaN  NaN  NaN  NaN  NaN    NaN  ...   NaN   \n",
              "\n",
              "        rdsp  rsvix  gpce  gip  tchi  house  avgcor  shtint  disag  \n",
              "yyyymm                                                              \n",
              "187101   NaN    NaN   NaN  NaN   NaN    NaN     NaN     NaN    NaN  \n",
              "187102   NaN    NaN   NaN  NaN   NaN    NaN     NaN     NaN    NaN  \n",
              "187103   NaN    NaN   NaN  NaN   NaN    NaN     NaN     NaN    NaN  \n",
              "187104   NaN    NaN   NaN  NaN   NaN    NaN     NaN     NaN    NaN  \n",
              "187105   NaN    NaN   NaN  NaN   NaN    NaN     NaN     NaN    NaN  \n",
              "\n",
              "[5 rows x 56 columns]"
            ]
          },
          "execution_count": 4,
          "metadata": {},
          "output_type": "execute_result"
        }
      ],
      "source": [
        "predictors = pd.read_excel('PredictorData2023.xlsx',sheet_name='Monthly',index_col=[0])\n",
        "predictors.head()"
      ]
    },
    {
      "cell_type": "markdown",
      "metadata": {
        "id": "1nhsTKtevH6C"
      },
      "source": [
        "The data go back a long way!  Let's focus on a more modern sample to try to make this more relevant."
      ]
    },
    {
      "cell_type": "code",
      "execution_count": null,
      "metadata": {
        "id": "aRVQvruEvH6D",
        "outputId": "5d08e76d-fc68-4e5e-b390-9c31f3b6a722"
      },
      "outputs": [
        {
          "data": {
            "text/html": [
              "<div>\n",
              "<style scoped>\n",
              "    .dataframe tbody tr th:only-of-type {\n",
              "        vertical-align: middle;\n",
              "    }\n",
              "\n",
              "    .dataframe tbody tr th {\n",
              "        vertical-align: top;\n",
              "    }\n",
              "\n",
              "    .dataframe thead th {\n",
              "        text-align: right;\n",
              "    }\n",
              "</style>\n",
              "<table border=\"1\" class=\"dataframe\">\n",
              "  <thead>\n",
              "    <tr style=\"text-align: right;\">\n",
              "      <th></th>\n",
              "      <th>price</th>\n",
              "      <th>d12</th>\n",
              "      <th>e12</th>\n",
              "      <th>ret</th>\n",
              "      <th>retx</th>\n",
              "      <th>AAA</th>\n",
              "      <th>BAA</th>\n",
              "      <th>lty</th>\n",
              "      <th>ltr</th>\n",
              "      <th>corpr</th>\n",
              "      <th>...</th>\n",
              "      <th>ygap</th>\n",
              "      <th>rdsp</th>\n",
              "      <th>rsvix</th>\n",
              "      <th>gpce</th>\n",
              "      <th>gip</th>\n",
              "      <th>tchi</th>\n",
              "      <th>house</th>\n",
              "      <th>avgcor</th>\n",
              "      <th>shtint</th>\n",
              "      <th>disag</th>\n",
              "    </tr>\n",
              "    <tr>\n",
              "      <th>yyyymm</th>\n",
              "      <th></th>\n",
              "      <th></th>\n",
              "      <th></th>\n",
              "      <th></th>\n",
              "      <th></th>\n",
              "      <th></th>\n",
              "      <th></th>\n",
              "      <th></th>\n",
              "      <th></th>\n",
              "      <th></th>\n",
              "      <th></th>\n",
              "      <th></th>\n",
              "      <th></th>\n",
              "      <th></th>\n",
              "      <th></th>\n",
              "      <th></th>\n",
              "      <th></th>\n",
              "      <th></th>\n",
              "      <th></th>\n",
              "      <th></th>\n",
              "      <th></th>\n",
              "    </tr>\n",
              "  </thead>\n",
              "  <tbody>\n",
              "    <tr>\n",
              "      <th>195001</th>\n",
              "      <td>17.05</td>\n",
              "      <td>1.15</td>\n",
              "      <td>2.33667</td>\n",
              "      <td>0.019703</td>\n",
              "      <td>0.018245</td>\n",
              "      <td>0.0257</td>\n",
              "      <td>0.0324</td>\n",
              "      <td>0.0215</td>\n",
              "      <td>-0.0061</td>\n",
              "      <td>0.0037</td>\n",
              "      <td>...</td>\n",
              "      <td>NaN</td>\n",
              "      <td>0.046476</td>\n",
              "      <td>NaN</td>\n",
              "      <td>NaN</td>\n",
              "      <td>NaN</td>\n",
              "      <td>NaN</td>\n",
              "      <td>NaN</td>\n",
              "      <td>0.190043</td>\n",
              "      <td>NaN</td>\n",
              "      <td>NaN</td>\n",
              "    </tr>\n",
              "    <tr>\n",
              "      <th>195002</th>\n",
              "      <td>17.22</td>\n",
              "      <td>1.16</td>\n",
              "      <td>2.35333</td>\n",
              "      <td>0.019603</td>\n",
              "      <td>0.009975</td>\n",
              "      <td>0.0258</td>\n",
              "      <td>0.0324</td>\n",
              "      <td>0.0214</td>\n",
              "      <td>0.0021</td>\n",
              "      <td>0.0007</td>\n",
              "      <td>...</td>\n",
              "      <td>NaN</td>\n",
              "      <td>0.035501</td>\n",
              "      <td>NaN</td>\n",
              "      <td>NaN</td>\n",
              "      <td>NaN</td>\n",
              "      <td>NaN</td>\n",
              "      <td>NaN</td>\n",
              "      <td>0.186788</td>\n",
              "      <td>NaN</td>\n",
              "      <td>NaN</td>\n",
              "    </tr>\n",
              "    <tr>\n",
              "      <th>195003</th>\n",
              "      <td>17.29</td>\n",
              "      <td>1.17</td>\n",
              "      <td>2.37000</td>\n",
              "      <td>0.008185</td>\n",
              "      <td>0.003542</td>\n",
              "      <td>0.0258</td>\n",
              "      <td>0.0324</td>\n",
              "      <td>0.0215</td>\n",
              "      <td>0.0008</td>\n",
              "      <td>0.0022</td>\n",
              "      <td>...</td>\n",
              "      <td>NaN</td>\n",
              "      <td>0.033742</td>\n",
              "      <td>NaN</td>\n",
              "      <td>NaN</td>\n",
              "      <td>NaN</td>\n",
              "      <td>NaN</td>\n",
              "      <td>NaN</td>\n",
              "      <td>0.211920</td>\n",
              "      <td>NaN</td>\n",
              "      <td>NaN</td>\n",
              "    </tr>\n",
              "    <tr>\n",
              "      <th>195004</th>\n",
              "      <td>18.07</td>\n",
              "      <td>1.18</td>\n",
              "      <td>2.42667</td>\n",
              "      <td>0.045887</td>\n",
              "      <td>0.044493</td>\n",
              "      <td>0.0260</td>\n",
              "      <td>0.0323</td>\n",
              "      <td>0.0214</td>\n",
              "      <td>0.0030</td>\n",
              "      <td>-0.0008</td>\n",
              "      <td>...</td>\n",
              "      <td>NaN</td>\n",
              "      <td>0.050808</td>\n",
              "      <td>NaN</td>\n",
              "      <td>NaN</td>\n",
              "      <td>NaN</td>\n",
              "      <td>NaN</td>\n",
              "      <td>NaN</td>\n",
              "      <td>0.187397</td>\n",
              "      <td>NaN</td>\n",
              "      <td>NaN</td>\n",
              "    </tr>\n",
              "    <tr>\n",
              "      <th>195005</th>\n",
              "      <td>18.78</td>\n",
              "      <td>1.19</td>\n",
              "      <td>2.48333</td>\n",
              "      <td>0.046902</td>\n",
              "      <td>0.037590</td>\n",
              "      <td>0.0261</td>\n",
              "      <td>0.0325</td>\n",
              "      <td>0.0213</td>\n",
              "      <td>0.0033</td>\n",
              "      <td>-0.0008</td>\n",
              "      <td>...</td>\n",
              "      <td>NaN</td>\n",
              "      <td>0.029955</td>\n",
              "      <td>NaN</td>\n",
              "      <td>NaN</td>\n",
              "      <td>NaN</td>\n",
              "      <td>NaN</td>\n",
              "      <td>NaN</td>\n",
              "      <td>0.176637</td>\n",
              "      <td>NaN</td>\n",
              "      <td>NaN</td>\n",
              "    </tr>\n",
              "  </tbody>\n",
              "</table>\n",
              "<p>5 rows × 56 columns</p>\n",
              "</div>"
            ],
            "text/plain": [
              "        price   d12      e12       ret      retx     AAA     BAA     lty  \\\n",
              "yyyymm                                                                     \n",
              "195001  17.05  1.15  2.33667  0.019703  0.018245  0.0257  0.0324  0.0215   \n",
              "195002  17.22  1.16  2.35333  0.019603  0.009975  0.0258  0.0324  0.0214   \n",
              "195003  17.29  1.17  2.37000  0.008185  0.003542  0.0258  0.0324  0.0215   \n",
              "195004  18.07  1.18  2.42667  0.045887  0.044493  0.0260  0.0323  0.0214   \n",
              "195005  18.78  1.19  2.48333  0.046902  0.037590  0.0261  0.0325  0.0213   \n",
              "\n",
              "           ltr   corpr  ...  ygap      rdsp  rsvix  gpce  gip  tchi  house  \\\n",
              "yyyymm                  ...                                                  \n",
              "195001 -0.0061  0.0037  ...   NaN  0.046476    NaN   NaN  NaN   NaN    NaN   \n",
              "195002  0.0021  0.0007  ...   NaN  0.035501    NaN   NaN  NaN   NaN    NaN   \n",
              "195003  0.0008  0.0022  ...   NaN  0.033742    NaN   NaN  NaN   NaN    NaN   \n",
              "195004  0.0030 -0.0008  ...   NaN  0.050808    NaN   NaN  NaN   NaN    NaN   \n",
              "195005  0.0033 -0.0008  ...   NaN  0.029955    NaN   NaN  NaN   NaN    NaN   \n",
              "\n",
              "          avgcor  shtint  disag  \n",
              "yyyymm                           \n",
              "195001  0.190043     NaN    NaN  \n",
              "195002  0.186788     NaN    NaN  \n",
              "195003  0.211920     NaN    NaN  \n",
              "195004  0.187397     NaN    NaN  \n",
              "195005  0.176637     NaN    NaN  \n",
              "\n",
              "[5 rows x 56 columns]"
            ]
          },
          "execution_count": 5,
          "metadata": {},
          "output_type": "execute_result"
        }
      ],
      "source": [
        "predictors = predictors.loc[195001:]\n",
        "predictors.head()"
      ]
    },
    {
      "cell_type": "markdown",
      "metadata": {
        "id": "H5aON_GzvH6D"
      },
      "source": [
        "The predictors dataset represents my entire sample.  If I am running a backtest, I want to pretend that today is sometime during that sample and perform the data analysis that would have been feasible at that time.\n",
        "\n",
        "Before we get into a full analysis, let's look at an example. Suppose it is the very end of 2012.  I will create a data frame pred2012 that includes this data. NOte that this includes everything from 1950 up until 2012. We could also use a rolling window -- say, the last 10 years. In that case we would select the data from [200212:201212]."
      ]
    },
    {
      "cell_type": "code",
      "execution_count": null,
      "metadata": {
        "id": "-gV-nnmVvH6E"
      },
      "outputs": [],
      "source": [
        "pred2012 = predictors.loc[:201212]"
      ]
    },
    {
      "cell_type": "markdown",
      "metadata": {
        "id": "Enf4z_RhvH6E"
      },
      "source": [
        "Next, I will add a few variables that might be interesting.  One is the ratio of earnings to prices.  The other is the 12-month MA of inflation:"
      ]
    },
    {
      "cell_type": "code",
      "execution_count": null,
      "metadata": {
        "scrolled": true,
        "id": "3y6GubCrvH6E",
        "outputId": "2135105e-19ba-4be9-fb75-d173c8b0486a"
      },
      "outputs": [
        {
          "name": "stderr",
          "output_type": "stream",
          "text": [
            "<ipython-input-7-614a8ee66560>:1: SettingWithCopyWarning: \n",
            "A value is trying to be set on a copy of a slice from a DataFrame.\n",
            "Try using .loc[row_indexer,col_indexer] = value instead\n",
            "\n",
            "See the caveats in the documentation: https://pandas.pydata.org/pandas-docs/stable/user_guide/indexing.html#returning-a-view-versus-a-copy\n",
            "  pred2012['ep']     = pred2012['e12']/pred2012['price']\n",
            "<ipython-input-7-614a8ee66560>:2: SettingWithCopyWarning: \n",
            "A value is trying to be set on a copy of a slice from a DataFrame.\n",
            "Try using .loc[row_indexer,col_indexer] = value instead\n",
            "\n",
            "See the caveats in the documentation: https://pandas.pydata.org/pandas-docs/stable/user_guide/indexing.html#returning-a-view-versus-a-copy\n",
            "  pred2012['infl12'] = pred2012['infl'].rolling(12).mean()\n"
          ]
        }
      ],
      "source": [
        "pred2012['ep']     = pred2012['e12']/pred2012['price']\n",
        "pred2012['infl12'] = pred2012['infl'].rolling(12).mean()"
      ]
    },
    {
      "cell_type": "markdown",
      "metadata": {
        "id": "KwaSVR6VvH6F"
      },
      "source": [
        "Now I will just keep the data that I care about, which includes these columns, a few other predictors, and the market return:"
      ]
    },
    {
      "cell_type": "code",
      "execution_count": null,
      "metadata": {
        "id": "mkR9TySkvH6F"
      },
      "outputs": [],
      "source": [
        "pred2012 = pred2012[['ep','infl12','lty','ntis','ret']]"
      ]
    },
    {
      "cell_type": "markdown",
      "metadata": {
        "id": "HxOjGQx5vH6F"
      },
      "source": [
        "Predictive regressions are of the form\n",
        "$$ R_{t+1} = \\alpha + \\beta X_t + \\epsilon_{t+1}$$\n",
        "It is important that the dependent variable is later than the independent variable.  We are trying to predict returns with X, so we need to be able to see X before the investment is made.\n",
        "\n",
        "I can either _lag_ the X variables or _lead_ the returns.  Either way is fine.  I usually do the former, but this time I'll do the latter, which is accomplished with shift(-1):"
      ]
    },
    {
      "cell_type": "code",
      "execution_count": null,
      "metadata": {
        "id": "Tpqm29l7vH6G"
      },
      "outputs": [],
      "source": [
        "pred2012['ret']=predictors['ret'].shift(-1)"
      ]
    },
    {
      "cell_type": "markdown",
      "metadata": {
        "id": "BuPqeDvivH6G"
      },
      "source": [
        "Since shift(-1) will create some missing values, I will use dropna:"
      ]
    },
    {
      "cell_type": "code",
      "execution_count": null,
      "metadata": {
        "id": "sX-7DfWyvH6G"
      },
      "outputs": [],
      "source": [
        "pred2012.dropna(inplace=True)"
      ]
    },
    {
      "cell_type": "markdown",
      "metadata": {
        "collapsed": true,
        "id": "BG8_8rRRvH6G"
      },
      "source": [
        "Let's run a regression.  I'll use statsmodels.formula.api, which allows you to specify your regression equation.  Also, smf.ols automatically adds a constant to the regression, which is usually convenient.\n",
        "\n",
        "In my regression, I will regress future returns on the current E/P ratio:"
      ]
    },
    {
      "cell_type": "code",
      "execution_count": null,
      "metadata": {
        "id": "4Z8INn6EvH6H",
        "outputId": "43ebb248-3776-4931-8fe6-fdc603a1823b"
      },
      "outputs": [
        {
          "name": "stdout",
          "output_type": "stream",
          "text": [
            "                            OLS Regression Results                            \n",
            "==============================================================================\n",
            "Dep. Variable:                    ret   R-squared:                       0.029\n",
            "Model:                            OLS   Adj. R-squared:                  0.027\n",
            "Method:                 Least Squares   F-statistic:                     11.17\n",
            "Date:                Tue, 29 Oct 2024   Prob (F-statistic):           1.66e-05\n",
            "Time:                        23:39:23   Log-Likelihood:                 1312.8\n",
            "No. Observations:                 745   AIC:                            -2620.\n",
            "Df Residuals:                     742   BIC:                            -2606.\n",
            "Df Model:                           2                                         \n",
            "Covariance Type:            nonrobust                                         \n",
            "==============================================================================\n",
            "                 coef    std err          t      P>|t|      [0.025      0.975]\n",
            "------------------------------------------------------------------------------\n",
            "Intercept     -0.0025      0.004     -0.605      0.545      -0.011       0.006\n",
            "ep             0.3453      0.076      4.517      0.000       0.195       0.495\n",
            "infl12        -3.7207      0.909     -4.093      0.000      -5.505      -1.936\n",
            "==============================================================================\n",
            "Omnibus:                       36.967   Durbin-Watson:                   1.916\n",
            "Prob(Omnibus):                  0.000   Jarque-Bera (JB):               75.296\n",
            "Skew:                          -0.305   Prob(JB):                     4.46e-17\n",
            "Kurtosis:                       4.433   Cond. No.                         598.\n",
            "==============================================================================\n",
            "\n",
            "Notes:\n",
            "[1] Standard Errors assume that the covariance matrix of the errors is correctly specified.\n"
          ]
        }
      ],
      "source": [
        "results = smf.ols('ret ~ ep + infl12', data=pred2012).fit()\n",
        "print(results.summary())"
      ]
    },
    {
      "cell_type": "markdown",
      "metadata": {
        "id": "nEiYPdMuvH6H"
      },
      "source": [
        "The t-stats indicate strong statistical significance, but the R-square is not super high.  The predictability here is not huge.\n",
        "\n",
        "Maybe we will find more predictability using the other two predictors, lty (long-term bond yield) and ntis (net share issuance)."
      ]
    },
    {
      "cell_type": "code",
      "execution_count": null,
      "metadata": {
        "id": "ScYVPVH2vH6H",
        "outputId": "516f820b-9278-4052-f3c5-3271a209bb7b"
      },
      "outputs": [
        {
          "name": "stdout",
          "output_type": "stream",
          "text": [
            "                            OLS Regression Results                            \n",
            "==============================================================================\n",
            "Dep. Variable:                    ret   R-squared:                       0.032\n",
            "Model:                            OLS   Adj. R-squared:                  0.026\n",
            "Method:                 Least Squares   F-statistic:                     6.018\n",
            "Date:                Tue, 29 Oct 2024   Prob (F-statistic):           9.08e-05\n",
            "Time:                        23:39:29   Log-Likelihood:                 1313.7\n",
            "No. Observations:                 745   AIC:                            -2617.\n",
            "Df Residuals:                     740   BIC:                            -2594.\n",
            "Df Model:                           4                                         \n",
            "Covariance Type:            nonrobust                                         \n",
            "==============================================================================\n",
            "                 coef    std err          t      P>|t|      [0.025      0.975]\n",
            "------------------------------------------------------------------------------\n",
            "Intercept     -0.0049      0.005     -0.922      0.357      -0.015       0.005\n",
            "ep             0.3516      0.077      4.573      0.000       0.201       0.503\n",
            "infl12        -4.2485      1.041     -4.082      0.000      -6.292      -2.205\n",
            "lty            0.0701      0.072      0.974      0.330      -0.071       0.211\n",
            "ntis          -0.0581      0.085     -0.680      0.496      -0.226       0.109\n",
            "==============================================================================\n",
            "Omnibus:                       39.389   Durbin-Watson:                   1.919\n",
            "Prob(Omnibus):                  0.000   Jarque-Bera (JB):               81.257\n",
            "Skew:                          -0.323   Prob(JB):                     2.27e-18\n",
            "Kurtosis:                       4.483   Cond. No.                         686.\n",
            "==============================================================================\n",
            "\n",
            "Notes:\n",
            "[1] Standard Errors assume that the covariance matrix of the errors is correctly specified.\n"
          ]
        }
      ],
      "source": [
        "results = smf.ols('ret ~ ep + infl12 + lty + ntis', data=pred2012).fit()\n",
        "print(results.summary())"
      ]
    },
    {
      "cell_type": "markdown",
      "metadata": {
        "id": "PcugXbHUvH6I"
      },
      "source": [
        "The same OLS regression can also be run using sm.OLS.  (The capitalization in \"sm.OLS\" is required.)  This time, we give the function our dependent variable and our independent variables as separate arguments.  In addition, the function does not automatically assume that we want to include a constant.  Instead, we have to use the sm.add_constant function to add a constant to our predictors."
      ]
    },
    {
      "cell_type": "code",
      "execution_count": null,
      "metadata": {
        "id": "XKxof_N6vH6I",
        "outputId": "fae98370-fcff-4db2-fe54-c6c24b2a532e"
      },
      "outputs": [
        {
          "data": {
            "text/html": [
              "<div>\n",
              "<style scoped>\n",
              "    .dataframe tbody tr th:only-of-type {\n",
              "        vertical-align: middle;\n",
              "    }\n",
              "\n",
              "    .dataframe tbody tr th {\n",
              "        vertical-align: top;\n",
              "    }\n",
              "\n",
              "    .dataframe thead th {\n",
              "        text-align: right;\n",
              "    }\n",
              "</style>\n",
              "<table border=\"1\" class=\"dataframe\">\n",
              "  <thead>\n",
              "    <tr style=\"text-align: right;\">\n",
              "      <th></th>\n",
              "      <th>ep</th>\n",
              "      <th>infl12</th>\n",
              "      <th>lty</th>\n",
              "      <th>ntis</th>\n",
              "    </tr>\n",
              "    <tr>\n",
              "      <th>yyyymm</th>\n",
              "      <th></th>\n",
              "      <th></th>\n",
              "      <th></th>\n",
              "      <th></th>\n",
              "    </tr>\n",
              "  </thead>\n",
              "  <tbody>\n",
              "    <tr>\n",
              "      <th>195012</th>\n",
              "      <td>0.139147</td>\n",
              "      <td>0.004825</td>\n",
              "      <td>0.0224</td>\n",
              "      <td>0.031358</td>\n",
              "    </tr>\n",
              "    <tr>\n",
              "      <th>195101</th>\n",
              "      <td>0.130964</td>\n",
              "      <td>0.006512</td>\n",
              "      <td>0.0221</td>\n",
              "      <td>0.030045</td>\n",
              "    </tr>\n",
              "    <tr>\n",
              "      <th>195102</th>\n",
              "      <td>0.129969</td>\n",
              "      <td>0.007496</td>\n",
              "      <td>0.0228</td>\n",
              "      <td>0.031120</td>\n",
              "    </tr>\n",
              "    <tr>\n",
              "      <th>195103</th>\n",
              "      <td>0.132243</td>\n",
              "      <td>0.007465</td>\n",
              "      <td>0.0241</td>\n",
              "      <td>0.032687</td>\n",
              "    </tr>\n",
              "    <tr>\n",
              "      <th>195104</th>\n",
              "      <td>0.124535</td>\n",
              "      <td>0.007465</td>\n",
              "      <td>0.0248</td>\n",
              "      <td>0.032092</td>\n",
              "    </tr>\n",
              "  </tbody>\n",
              "</table>\n",
              "</div>"
            ],
            "text/plain": [
              "              ep    infl12     lty      ntis\n",
              "yyyymm                                      \n",
              "195012  0.139147  0.004825  0.0224  0.031358\n",
              "195101  0.130964  0.006512  0.0221  0.030045\n",
              "195102  0.129969  0.007496  0.0228  0.031120\n",
              "195103  0.132243  0.007465  0.0241  0.032687\n",
              "195104  0.124535  0.007465  0.0248  0.032092"
            ]
          },
          "execution_count": 13,
          "metadata": {},
          "output_type": "execute_result"
        }
      ],
      "source": [
        "Y = pred2012['ret']\n",
        "X = pred2012[['ep','infl12','lty','ntis']]\n",
        "X.head()"
      ]
    },
    {
      "cell_type": "code",
      "execution_count": null,
      "metadata": {
        "id": "L0o9ABUwvH6I",
        "outputId": "77f0c526-aa66-4ab0-af05-0637614e44a9"
      },
      "outputs": [
        {
          "data": {
            "text/html": [
              "<div>\n",
              "<style scoped>\n",
              "    .dataframe tbody tr th:only-of-type {\n",
              "        vertical-align: middle;\n",
              "    }\n",
              "\n",
              "    .dataframe tbody tr th {\n",
              "        vertical-align: top;\n",
              "    }\n",
              "\n",
              "    .dataframe thead th {\n",
              "        text-align: right;\n",
              "    }\n",
              "</style>\n",
              "<table border=\"1\" class=\"dataframe\">\n",
              "  <thead>\n",
              "    <tr style=\"text-align: right;\">\n",
              "      <th></th>\n",
              "      <th>const</th>\n",
              "      <th>ep</th>\n",
              "      <th>infl12</th>\n",
              "      <th>lty</th>\n",
              "      <th>ntis</th>\n",
              "    </tr>\n",
              "    <tr>\n",
              "      <th>yyyymm</th>\n",
              "      <th></th>\n",
              "      <th></th>\n",
              "      <th></th>\n",
              "      <th></th>\n",
              "      <th></th>\n",
              "    </tr>\n",
              "  </thead>\n",
              "  <tbody>\n",
              "    <tr>\n",
              "      <th>195012</th>\n",
              "      <td>1.0</td>\n",
              "      <td>0.139147</td>\n",
              "      <td>0.004825</td>\n",
              "      <td>0.0224</td>\n",
              "      <td>0.031358</td>\n",
              "    </tr>\n",
              "    <tr>\n",
              "      <th>195101</th>\n",
              "      <td>1.0</td>\n",
              "      <td>0.130964</td>\n",
              "      <td>0.006512</td>\n",
              "      <td>0.0221</td>\n",
              "      <td>0.030045</td>\n",
              "    </tr>\n",
              "    <tr>\n",
              "      <th>195102</th>\n",
              "      <td>1.0</td>\n",
              "      <td>0.129969</td>\n",
              "      <td>0.007496</td>\n",
              "      <td>0.0228</td>\n",
              "      <td>0.031120</td>\n",
              "    </tr>\n",
              "    <tr>\n",
              "      <th>195103</th>\n",
              "      <td>1.0</td>\n",
              "      <td>0.132243</td>\n",
              "      <td>0.007465</td>\n",
              "      <td>0.0241</td>\n",
              "      <td>0.032687</td>\n",
              "    </tr>\n",
              "    <tr>\n",
              "      <th>195104</th>\n",
              "      <td>1.0</td>\n",
              "      <td>0.124535</td>\n",
              "      <td>0.007465</td>\n",
              "      <td>0.0248</td>\n",
              "      <td>0.032092</td>\n",
              "    </tr>\n",
              "  </tbody>\n",
              "</table>\n",
              "</div>"
            ],
            "text/plain": [
              "        const        ep    infl12     lty      ntis\n",
              "yyyymm                                             \n",
              "195012    1.0  0.139147  0.004825  0.0224  0.031358\n",
              "195101    1.0  0.130964  0.006512  0.0221  0.030045\n",
              "195102    1.0  0.129969  0.007496  0.0228  0.031120\n",
              "195103    1.0  0.132243  0.007465  0.0241  0.032687\n",
              "195104    1.0  0.124535  0.007465  0.0248  0.032092"
            ]
          },
          "execution_count": 14,
          "metadata": {},
          "output_type": "execute_result"
        }
      ],
      "source": [
        "sm.add_constant(X).head()"
      ]
    },
    {
      "cell_type": "markdown",
      "metadata": {
        "id": "X1i8idUsvH6J"
      },
      "source": [
        "We can run the regression using sm.OLS as follows:"
      ]
    },
    {
      "cell_type": "code",
      "execution_count": null,
      "metadata": {
        "id": "XaJhiFbZvH6J",
        "outputId": "76dcad39-5e24-45ea-df57-0df6ad614be4"
      },
      "outputs": [
        {
          "name": "stdout",
          "output_type": "stream",
          "text": [
            "                            OLS Regression Results                            \n",
            "==============================================================================\n",
            "Dep. Variable:                    ret   R-squared:                       0.032\n",
            "Model:                            OLS   Adj. R-squared:                  0.026\n",
            "Method:                 Least Squares   F-statistic:                     6.018\n",
            "Date:                Tue, 29 Oct 2024   Prob (F-statistic):           9.08e-05\n",
            "Time:                        23:39:44   Log-Likelihood:                 1313.7\n",
            "No. Observations:                 745   AIC:                            -2617.\n",
            "Df Residuals:                     740   BIC:                            -2594.\n",
            "Df Model:                           4                                         \n",
            "Covariance Type:            nonrobust                                         \n",
            "==============================================================================\n",
            "                 coef    std err          t      P>|t|      [0.025      0.975]\n",
            "------------------------------------------------------------------------------\n",
            "const         -0.0049      0.005     -0.922      0.357      -0.015       0.005\n",
            "ep             0.3516      0.077      4.573      0.000       0.201       0.503\n",
            "infl12        -4.2485      1.041     -4.082      0.000      -6.292      -2.205\n",
            "lty            0.0701      0.072      0.974      0.330      -0.071       0.211\n",
            "ntis          -0.0581      0.085     -0.680      0.496      -0.226       0.109\n",
            "==============================================================================\n",
            "Omnibus:                       39.389   Durbin-Watson:                   1.919\n",
            "Prob(Omnibus):                  0.000   Jarque-Bera (JB):               81.257\n",
            "Skew:                          -0.323   Prob(JB):                     2.27e-18\n",
            "Kurtosis:                       4.483   Cond. No.                         686.\n",
            "==============================================================================\n",
            "\n",
            "Notes:\n",
            "[1] Standard Errors assume that the covariance matrix of the errors is correctly specified.\n"
          ]
        }
      ],
      "source": [
        "results2 = sm.OLS(Y, sm.add_constant(X)).fit()\n",
        "print(results2.summary())"
      ]
    },
    {
      "cell_type": "markdown",
      "metadata": {
        "id": "oQdjEZ6BvH6J"
      },
      "source": [
        "The results turn out to be the same, of course."
      ]
    },
    {
      "cell_type": "markdown",
      "metadata": {
        "id": "jsvRci2XvH6J"
      },
      "source": [
        "Let's now consider briefly how you would run a regression on a subset of the variables in the dataframe, for example those that have a higher correlation with the dependent variable. This is in line with what Hull and Qiao recommend."
      ]
    },
    {
      "cell_type": "markdown",
      "metadata": {
        "id": "psAy9pt1vH6J"
      },
      "source": [
        "We can compute the correlation between Y and each column of X with"
      ]
    },
    {
      "cell_type": "code",
      "execution_count": null,
      "metadata": {
        "id": "FlgMMeQvvH6J",
        "outputId": "7b6170b9-c2c0-400d-af43-dd829f8f9cc7"
      },
      "outputs": [
        {
          "name": "stdout",
          "output_type": "stream",
          "text": [
            "ep        0.085510\n",
            "infl12   -0.050415\n",
            "lty       0.001298\n",
            "ntis     -0.016634\n",
            "dtype: float64\n"
          ]
        }
      ],
      "source": [
        "rho=X.corrwith(Y)\n",
        "print(rho)"
      ]
    },
    {
      "cell_type": "markdown",
      "metadata": {
        "id": "0Jd3T9aivH6K"
      },
      "source": [
        "Note that rho is a series:"
      ]
    },
    {
      "cell_type": "code",
      "execution_count": null,
      "metadata": {
        "id": "BFSr3eR0vH6K",
        "outputId": "af7118ab-7af9-480e-f8a4-1270792fb0a2"
      },
      "outputs": [
        {
          "data": {
            "text/plain": [
              "pandas.core.series.Series"
            ]
          },
          "execution_count": 17,
          "metadata": {},
          "output_type": "execute_result"
        }
      ],
      "source": [
        "type(rho)"
      ]
    },
    {
      "cell_type": "markdown",
      "metadata": {
        "id": "3l3D9SE7vH6K"
      },
      "source": [
        "We can therefore use the loc property to subset the rows of rho, for example to find rows that have a high enough absolute correlation.  (I'm using .05 here instead of .1 since there aren't any correlations above .1 in absolute value.)"
      ]
    },
    {
      "cell_type": "code",
      "execution_count": null,
      "metadata": {
        "id": "F8bN6NhRvH6L",
        "outputId": "dce80222-c027-45b0-d6c1-cb2be8d7c2eb"
      },
      "outputs": [
        {
          "name": "stdout",
          "output_type": "stream",
          "text": [
            "ep        0.085510\n",
            "infl12   -0.050415\n",
            "dtype: float64\n"
          ]
        }
      ],
      "source": [
        "rhokeep = rho.loc[np.abs(rho)>.05]\n",
        "print(rhokeep)"
      ]
    },
    {
      "cell_type": "markdown",
      "metadata": {
        "id": "CNAIgKfDvH6L"
      },
      "source": [
        "If we want to know what the indexes are of the high correlation variables, we can see them by typing"
      ]
    },
    {
      "cell_type": "code",
      "execution_count": null,
      "metadata": {
        "id": "VrreZ0yhvH6M",
        "outputId": "e5c5b217-95ef-4de1-c093-4ddefb36b985"
      },
      "outputs": [
        {
          "data": {
            "text/plain": [
              "Index(['ep', 'infl12'], dtype='object')"
            ]
          },
          "execution_count": 19,
          "metadata": {},
          "output_type": "execute_result"
        }
      ],
      "source": [
        "rhokeep.index"
      ]
    },
    {
      "cell_type": "markdown",
      "metadata": {
        "id": "tHff1AZFvH6M"
      },
      "source": [
        "It looks like we might want to drop lty and ntis.  We can pull out the desired columns out of the X dataframe using the standard method:"
      ]
    },
    {
      "cell_type": "code",
      "execution_count": null,
      "metadata": {
        "id": "ChfwBJ3AvH6M",
        "outputId": "96b5e7a5-489c-4309-88fa-6491c6c6143d"
      },
      "outputs": [
        {
          "data": {
            "text/html": [
              "<div>\n",
              "<style scoped>\n",
              "    .dataframe tbody tr th:only-of-type {\n",
              "        vertical-align: middle;\n",
              "    }\n",
              "\n",
              "    .dataframe tbody tr th {\n",
              "        vertical-align: top;\n",
              "    }\n",
              "\n",
              "    .dataframe thead th {\n",
              "        text-align: right;\n",
              "    }\n",
              "</style>\n",
              "<table border=\"1\" class=\"dataframe\">\n",
              "  <thead>\n",
              "    <tr style=\"text-align: right;\">\n",
              "      <th></th>\n",
              "      <th>ep</th>\n",
              "      <th>infl12</th>\n",
              "    </tr>\n",
              "    <tr>\n",
              "      <th>yyyymm</th>\n",
              "      <th></th>\n",
              "      <th></th>\n",
              "    </tr>\n",
              "  </thead>\n",
              "  <tbody>\n",
              "    <tr>\n",
              "      <th>195012</th>\n",
              "      <td>0.139147</td>\n",
              "      <td>0.004825</td>\n",
              "    </tr>\n",
              "    <tr>\n",
              "      <th>195101</th>\n",
              "      <td>0.130964</td>\n",
              "      <td>0.006512</td>\n",
              "    </tr>\n",
              "    <tr>\n",
              "      <th>195102</th>\n",
              "      <td>0.129969</td>\n",
              "      <td>0.007496</td>\n",
              "    </tr>\n",
              "    <tr>\n",
              "      <th>195103</th>\n",
              "      <td>0.132243</td>\n",
              "      <td>0.007465</td>\n",
              "    </tr>\n",
              "    <tr>\n",
              "      <th>195104</th>\n",
              "      <td>0.124535</td>\n",
              "      <td>0.007465</td>\n",
              "    </tr>\n",
              "  </tbody>\n",
              "</table>\n",
              "</div>"
            ],
            "text/plain": [
              "              ep    infl12\n",
              "yyyymm                    \n",
              "195012  0.139147  0.004825\n",
              "195101  0.130964  0.006512\n",
              "195102  0.129969  0.007496\n",
              "195103  0.132243  0.007465\n",
              "195104  0.124535  0.007465"
            ]
          },
          "execution_count": 20,
          "metadata": {},
          "output_type": "execute_result"
        }
      ],
      "source": [
        "Xsub=X[rhokeep.index]\n",
        "Xsub.head()"
      ]
    },
    {
      "cell_type": "markdown",
      "metadata": {
        "id": "eBpjClJOvH6M"
      },
      "source": [
        "With the subset of predictors that we want to keep, we can come up with a slightly more parsimonious regression.  \n",
        "\n",
        "The nice thing about sm.OLS, as opposed to smf.ols, is that we can just give it the entire Xsub dataframe without having to write out the model describing which independent variables we want it to include:"
      ]
    },
    {
      "cell_type": "code",
      "execution_count": null,
      "metadata": {
        "id": "EvhM_-QqvH6N",
        "outputId": "31aa4a35-8d0c-4c60-c368-8716353c5588"
      },
      "outputs": [
        {
          "name": "stdout",
          "output_type": "stream",
          "text": [
            "                            OLS Regression Results                            \n",
            "==============================================================================\n",
            "Dep. Variable:                    ret   R-squared:                       0.029\n",
            "Model:                            OLS   Adj. R-squared:                  0.027\n",
            "Method:                 Least Squares   F-statistic:                     11.17\n",
            "Date:                Tue, 29 Oct 2024   Prob (F-statistic):           1.66e-05\n",
            "Time:                        23:40:53   Log-Likelihood:                 1312.8\n",
            "No. Observations:                 745   AIC:                            -2620.\n",
            "Df Residuals:                     742   BIC:                            -2606.\n",
            "Df Model:                           2                                         \n",
            "Covariance Type:            nonrobust                                         \n",
            "==============================================================================\n",
            "                 coef    std err          t      P>|t|      [0.025      0.975]\n",
            "------------------------------------------------------------------------------\n",
            "const         -0.0025      0.004     -0.605      0.545      -0.011       0.006\n",
            "ep             0.3453      0.076      4.517      0.000       0.195       0.495\n",
            "infl12        -3.7207      0.909     -4.093      0.000      -5.505      -1.936\n",
            "==============================================================================\n",
            "Omnibus:                       36.967   Durbin-Watson:                   1.916\n",
            "Prob(Omnibus):                  0.000   Jarque-Bera (JB):               75.296\n",
            "Skew:                          -0.305   Prob(JB):                     4.46e-17\n",
            "Kurtosis:                       4.433   Cond. No.                         598.\n",
            "==============================================================================\n",
            "\n",
            "Notes:\n",
            "[1] Standard Errors assume that the covariance matrix of the errors is correctly specified.\n"
          ]
        }
      ],
      "source": [
        "results4 = sm.OLS(Y, sm.add_constant(Xsub)).fit()\n",
        "print(results4.summary())"
      ]
    },
    {
      "cell_type": "markdown",
      "metadata": {
        "id": "RtJqzsipvH6O"
      },
      "source": [
        "__Now let's Look at the larger set of predictors. We won't do anything too fancy but will consider a \"kitchen sink\" approach.__"
      ]
    },
    {
      "cell_type": "markdown",
      "metadata": {
        "id": "ySS6qUj5vH6P"
      },
      "source": [
        "I'll pull the data through 2014 and drop the fields where there are no monthly values."
      ]
    },
    {
      "cell_type": "code",
      "execution_count": null,
      "metadata": {
        "id": "m8_dMaLivH6P",
        "outputId": "91bd13a6-7880-4442-a3dd-1b83214f7d31"
      },
      "outputs": [
        {
          "name": "stdout",
          "output_type": "stream",
          "text": [
            "Index(['price', 'd12', 'e12', 'ret', 'retx', 'AAA', 'BAA', 'lty', 'ltr',\n",
            "       'corpr', 'tbl', 'Rfree', 'd/p', 'd/y', 'e/p', 'd/e', 'b/m', 'tms',\n",
            "       'dfy', 'dfr', 'infl', 'ntis', 'svar', 'csp', 'vp', 'impvar', 'vrp',\n",
            "       'lzrt', 'ogap', 'wtexas', 'sntm', 'ndrbl', 'skvw', 'tail', 'fbm',\n",
            "       'dtoy', 'dtoat', 'ygap', 'rdsp', 'rsvix', 'tchi', 'avgcor', 'shtint',\n",
            "       'disag', 'infl12'],\n",
            "      dtype='object')\n"
          ]
        },
        {
          "name": "stderr",
          "output_type": "stream",
          "text": [
            "<ipython-input-72-92fe26c2d59b>:2: SettingWithCopyWarning: \n",
            "A value is trying to be set on a copy of a slice from a DataFrame\n",
            "\n",
            "See the caveats in the documentation: https://pandas.pydata.org/pandas-docs/stable/user_guide/indexing.html#returning-a-view-versus-a-copy\n",
            "  pred2014.drop(['gpce','gip','house','eqis','cay','i/k','pce','govik','skew','crdstd','accrul','cfacc'],axis=1,inplace=True)\n",
            "<ipython-input-72-92fe26c2d59b>:3: SettingWithCopyWarning: \n",
            "A value is trying to be set on a copy of a slice from a DataFrame.\n",
            "Try using .loc[row_indexer,col_indexer] = value instead\n",
            "\n",
            "See the caveats in the documentation: https://pandas.pydata.org/pandas-docs/stable/user_guide/indexing.html#returning-a-view-versus-a-copy\n",
            "  pred2014['infl12'] = pred2014['infl'].rolling(12).mean()\n",
            "<ipython-input-72-92fe26c2d59b>:4: SettingWithCopyWarning: \n",
            "A value is trying to be set on a copy of a slice from a DataFrame.\n",
            "Try using .loc[row_indexer,col_indexer] = value instead\n",
            "\n",
            "See the caveats in the documentation: https://pandas.pydata.org/pandas-docs/stable/user_guide/indexing.html#returning-a-view-versus-a-copy\n",
            "  pred2014['ret']=predictors['ret'].shift(-1)\n",
            "<ipython-input-72-92fe26c2d59b>:5: SettingWithCopyWarning: \n",
            "A value is trying to be set on a copy of a slice from a DataFrame\n",
            "\n",
            "See the caveats in the documentation: https://pandas.pydata.org/pandas-docs/stable/user_guide/indexing.html#returning-a-view-versus-a-copy\n",
            "  pred2014.dropna(inplace=True)\n"
          ]
        }
      ],
      "source": [
        "pred2014 = predictors.loc[:201214]\n",
        "pred2014.drop(['gpce','gip','house','eqis','cay','i/k','pce','govik','skew','crdstd','accrul','cfacc'],axis=1,inplace=True)\n",
        "pred2014['infl12'] = pred2014['infl'].rolling(12).mean()\n",
        "pred2014['ret']=predictors['ret'].shift(-1)\n",
        "pred2014.dropna(inplace=True)\n",
        "print(pred2014.columns)"
      ]
    },
    {
      "cell_type": "code",
      "execution_count": null,
      "metadata": {
        "id": "XmRKKkWnvH6P"
      },
      "outputs": [],
      "source": [
        "Y=pred2014['ret']\n",
        "X=pred2014.drop(['retx','ret','price'],axis=1)"
      ]
    },
    {
      "cell_type": "code",
      "execution_count": null,
      "metadata": {
        "id": "Q2_BPGeNvH6Q",
        "outputId": "75eb1c15-c01d-4aa2-c594-b7fc6077241d"
      },
      "outputs": [
        {
          "data": {
            "text/plain": [
              "yyyymm\n",
              "199601    0.010088\n",
              "199602    0.009585\n",
              "199603    0.015133\n",
              "199604    0.025257\n",
              "199605    0.004128\n",
              "Name: ret, dtype: float64"
            ]
          },
          "execution_count": 74,
          "metadata": {},
          "output_type": "execute_result"
        }
      ],
      "source": [
        "Y.head()"
      ]
    },
    {
      "cell_type": "markdown",
      "metadata": {
        "id": "W1IKcSB0vH6Q"
      },
      "source": [
        "This gives us a pretty good r-squared. But we have some problems still. First, this is not a true walk-forward analysis. This is using data all the way through 2014 to estimate the coefficients, and the r-squared applies those coefficients to predictions made at every month along the way. But we don't know the information used to estimate the coefficients yet. A true walk-forward analysis will reestimate the coefficients every month along the way."
      ]
    },
    {
      "cell_type": "code",
      "execution_count": null,
      "metadata": {
        "id": "IQQGOa69vH6Q",
        "outputId": "fa6c2cb4-7734-47fa-b72f-b641c6680318"
      },
      "outputs": [
        {
          "name": "stdout",
          "output_type": "stream",
          "text": [
            "                            OLS Regression Results                            \n",
            "==============================================================================\n",
            "Dep. Variable:                    ret   R-squared:                       0.771\n",
            "Model:                            OLS   Adj. R-squared:                  0.569\n",
            "Method:                 Least Squares   F-statistic:                     3.805\n",
            "Date:                Wed, 30 Oct 2024   Prob (F-statistic):           1.43e-05\n",
            "Time:                        00:08:41   Log-Likelihood:                 192.87\n",
            "No. Observations:                  84   AIC:                            -305.7\n",
            "Df Residuals:                      44   BIC:                            -208.5\n",
            "Df Model:                          39                                         \n",
            "Covariance Type:            nonrobust                                         \n",
            "==============================================================================\n",
            "                 coef    std err          t      P>|t|      [0.025      0.975]\n",
            "------------------------------------------------------------------------------\n",
            "const         -1.1658      3.516     -0.332      0.742      -8.252       5.920\n",
            "d12            0.1126      0.054      2.077      0.044       0.003       0.222\n",
            "e12           -0.0221      0.012     -1.925      0.061      -0.045       0.001\n",
            "AAA           -3.6836      3.697     -0.996      0.324     -11.134       3.766\n",
            "BAA            4.6432      3.302      1.406      0.167      -2.012      11.299\n",
            "lty           -2.9300      3.381     -0.867      0.391      -9.744       3.884\n",
            "ltr           -0.1457      0.203     -0.718      0.476      -0.555       0.263\n",
            "corpr          0.1774      0.368      0.482      0.632      -0.565       0.920\n",
            "tbl           -3.6251      2.801     -1.294      0.202      -9.270       2.020\n",
            "Rfree         -6.7424     18.897     -0.357      0.723     -44.826      31.341\n",
            "d/p           -8.8914     41.725     -0.213      0.832     -92.983      75.200\n",
            "d/y           13.0454     11.088      1.177      0.246      -9.300      35.391\n",
            "e/p           21.3598     17.831      1.198      0.237     -14.577      57.297\n",
            "d/e           -1.4401      0.996     -1.446      0.155      -3.447       0.566\n",
            "b/m           -0.3362      0.321     -1.048      0.300      -0.982       0.310\n",
            "tms            0.6951      1.657      0.419      0.677      -2.645       4.035\n",
            "dfy            8.3267      4.764      1.748      0.087      -1.275      17.929\n",
            "dfr            0.3231      0.463      0.697      0.489      -0.611       1.257\n",
            "infl           1.2797      2.551      0.502      0.618      -3.861       6.420\n",
            "ntis          -2.4468      1.619     -1.511      0.138      -5.710       0.816\n",
            "svar          -9.8715      6.929     -1.425      0.161     -23.836       4.093\n",
            "csp           56.9846     12.208      4.668      0.000      32.382      81.587\n",
            "vp            -0.0017      0.001     -1.189      0.241      -0.004       0.001\n",
            "impvar         4.1172      4.450      0.925      0.360      -4.851      13.086\n",
            "vrp           -0.0010      0.001     -0.961      0.342      -0.003       0.001\n",
            "lzrt           0.0651      0.105      0.623      0.537      -0.146       0.276\n",
            "ogap           1.7825      1.105      1.614      0.114      -0.444       4.009\n",
            "wtexas        -0.0048      0.054     -0.088      0.930      -0.114       0.104\n",
            "sntm           0.0232      0.056      0.418      0.678      -0.089       0.135\n",
            "ndrbl         -0.3293      0.225     -1.460      0.151      -0.784       0.125\n",
            "skvw          -0.1136      0.160     -0.712      0.480      -0.435       0.208\n",
            "tail           0.1452      0.510      0.285      0.777      -0.882       1.173\n",
            "fbm            0.0515      0.129      0.399      0.692      -0.208       0.311\n",
            "dtoy          -2.4401      0.925     -2.639      0.011      -4.303      -0.577\n",
            "dtoat          1.7198      1.000      1.720      0.092      -0.296       3.735\n",
            "ygap          -0.3177      0.868     -0.366      0.716      -2.068       1.433\n",
            "rdsp           0.0744      0.441      0.169      0.867      -0.814       0.963\n",
            "rsvix          1.3226      1.328      0.996      0.325      -1.354       3.999\n",
            "tchi          -0.0062      0.011     -0.547      0.587      -0.029       0.017\n",
            "avgcor        -0.0923      0.126     -0.735      0.466      -0.345       0.161\n",
            "shtint         0.0375      0.057      0.664      0.510      -0.076       0.151\n",
            "disag         -0.0330      0.034     -0.983      0.331      -0.101       0.035\n",
            "infl12        -7.3446     28.083     -0.262      0.795     -63.943      49.253\n",
            "==============================================================================\n",
            "Omnibus:                        3.087   Durbin-Watson:                   2.237\n",
            "Prob(Omnibus):                  0.214   Jarque-Bera (JB):                2.352\n",
            "Skew:                          -0.335   Prob(JB):                        0.309\n",
            "Kurtosis:                       3.472   Cond. No.                     1.04e+16\n",
            "==============================================================================\n",
            "\n",
            "Notes:\n",
            "[1] Standard Errors assume that the covariance matrix of the errors is correctly specified.\n",
            "[2] The smallest eigenvalue is 2.56e-27. This might indicate that there are\n",
            "strong multicollinearity problems or that the design matrix is singular.\n"
          ]
        }
      ],
      "source": [
        "results5 = sm.OLS(Y, sm.add_constant(X)).fit()\n",
        "print(results5.summary())"
      ]
    },
    {
      "cell_type": "markdown",
      "metadata": {
        "id": "rxiMOQAFvH6T"
      },
      "source": [
        "Also note that there is strong multicollinarity problems -- we have a bunch of redundant regressors in here. That's shown through the correlation of the x-variables with one another."
      ]
    },
    {
      "cell_type": "markdown",
      "metadata": {
        "id": "8gx3iEzdvH6T"
      },
      "source": [
        "First let's thin down the list of regressors a little bit more"
      ]
    },
    {
      "cell_type": "code",
      "execution_count": null,
      "metadata": {
        "id": "rnBRzOyOvH6U",
        "outputId": "dac99d5c-9722-40a6-e13d-a84faf53b752"
      },
      "outputs": [
        {
          "name": "stdout",
          "output_type": "stream",
          "text": [
            "d12      -0.107335\n",
            "e12       0.062273\n",
            "AAA       0.023921\n",
            "BAA      -0.081108\n",
            "lty       0.134196\n",
            "ltr      -0.067603\n",
            "corpr    -0.114048\n",
            "tbl       0.158413\n",
            "Rfree     0.144447\n",
            "d/p       0.218231\n",
            "d/y       0.205059\n",
            "e/p       0.283114\n",
            "d/e      -0.143479\n",
            "b/m       0.040495\n",
            "tms      -0.121085\n",
            "dfy      -0.183962\n",
            "dfr      -0.047609\n",
            "infl     -0.041661\n",
            "ntis      0.151262\n",
            "svar      0.074783\n",
            "csp       0.292732\n",
            "vp        0.218441\n",
            "impvar    0.326652\n",
            "vrp       0.230221\n",
            "lzrt      0.064488\n",
            "ogap     -0.090766\n",
            "wtexas   -0.137603\n",
            "sntm      0.305761\n",
            "ndrbl     0.047307\n",
            "skvw     -0.213490\n",
            "tail      0.044648\n",
            "fbm       0.070604\n",
            "dtoy     -0.074653\n",
            "dtoat     0.020276\n",
            "ygap      0.289543\n",
            "rdsp     -0.040399\n",
            "rsvix     0.198180\n",
            "tchi      0.205758\n",
            "avgcor    0.188565\n",
            "shtint    0.017044\n",
            "disag    -0.156096\n",
            "infl12   -0.070773\n",
            "dtype: float64\n"
          ]
        }
      ],
      "source": [
        "rho=X.corrwith(Y)\n",
        "print(rho)"
      ]
    },
    {
      "cell_type": "code",
      "execution_count": null,
      "metadata": {
        "id": "aKE-JMlPvH6U",
        "outputId": "7b8210bb-64bf-4589-8119-4b774c2aaa2a"
      },
      "outputs": [
        {
          "data": {
            "text/html": [
              "<div>\n",
              "<style scoped>\n",
              "    .dataframe tbody tr th:only-of-type {\n",
              "        vertical-align: middle;\n",
              "    }\n",
              "\n",
              "    .dataframe tbody tr th {\n",
              "        vertical-align: top;\n",
              "    }\n",
              "\n",
              "    .dataframe thead th {\n",
              "        text-align: right;\n",
              "    }\n",
              "</style>\n",
              "<table border=\"1\" class=\"dataframe\">\n",
              "  <thead>\n",
              "    <tr style=\"text-align: right;\">\n",
              "      <th></th>\n",
              "      <th>tbl</th>\n",
              "      <th>d/p</th>\n",
              "      <th>d/y</th>\n",
              "      <th>e/p</th>\n",
              "      <th>dfy</th>\n",
              "      <th>ntis</th>\n",
              "      <th>csp</th>\n",
              "      <th>vp</th>\n",
              "      <th>impvar</th>\n",
              "      <th>vrp</th>\n",
              "      <th>sntm</th>\n",
              "      <th>skvw</th>\n",
              "      <th>ygap</th>\n",
              "      <th>rsvix</th>\n",
              "      <th>tchi</th>\n",
              "      <th>avgcor</th>\n",
              "      <th>disag</th>\n",
              "    </tr>\n",
              "    <tr>\n",
              "      <th>yyyymm</th>\n",
              "      <th></th>\n",
              "      <th></th>\n",
              "      <th></th>\n",
              "      <th></th>\n",
              "      <th></th>\n",
              "      <th></th>\n",
              "      <th></th>\n",
              "      <th></th>\n",
              "      <th></th>\n",
              "      <th></th>\n",
              "      <th></th>\n",
              "      <th></th>\n",
              "      <th></th>\n",
              "      <th></th>\n",
              "      <th></th>\n",
              "      <th></th>\n",
              "      <th></th>\n",
              "    </tr>\n",
              "  </thead>\n",
              "  <tbody>\n",
              "    <tr>\n",
              "      <th>199601</th>\n",
              "      <td>0.0500</td>\n",
              "      <td>0.021844</td>\n",
              "      <td>0.022557</td>\n",
              "      <td>0.053436</td>\n",
              "      <td>0.0066</td>\n",
              "      <td>0.016128</td>\n",
              "      <td>-0.000053</td>\n",
              "      <td>3.609275</td>\n",
              "      <td>0.005112</td>\n",
              "      <td>6.2807</td>\n",
              "      <td>0.526699</td>\n",
              "      <td>0.045017</td>\n",
              "      <td>-2.984223</td>\n",
              "      <td>0.013360</td>\n",
              "      <td>1.070281</td>\n",
              "      <td>0.149977</td>\n",
              "      <td>2.871780</td>\n",
              "    </tr>\n",
              "    <tr>\n",
              "      <th>199602</th>\n",
              "      <td>0.0483</td>\n",
              "      <td>0.021858</td>\n",
              "      <td>0.022010</td>\n",
              "      <td>0.053110</td>\n",
              "      <td>0.0064</td>\n",
              "      <td>0.016801</td>\n",
              "      <td>-0.000228</td>\n",
              "      <td>8.057655</td>\n",
              "      <td>0.007465</td>\n",
              "      <td>15.4671</td>\n",
              "      <td>0.428522</td>\n",
              "      <td>0.036731</td>\n",
              "      <td>-2.991862</td>\n",
              "      <td>0.026520</td>\n",
              "      <td>1.070281</td>\n",
              "      <td>0.186248</td>\n",
              "      <td>2.829952</td>\n",
              "    </tr>\n",
              "    <tr>\n",
              "      <th>199603</th>\n",
              "      <td>0.0496</td>\n",
              "      <td>0.021850</td>\n",
              "      <td>0.022023</td>\n",
              "      <td>0.052734</td>\n",
              "      <td>0.0068</td>\n",
              "      <td>0.016892</td>\n",
              "      <td>0.000031</td>\n",
              "      <td>16.592991</td>\n",
              "      <td>0.005754</td>\n",
              "      <td>18.9536</td>\n",
              "      <td>0.462212</td>\n",
              "      <td>-0.016471</td>\n",
              "      <td>-3.003302</td>\n",
              "      <td>0.029856</td>\n",
              "      <td>1.070281</td>\n",
              "      <td>0.218431</td>\n",
              "      <td>2.908487</td>\n",
              "    </tr>\n",
              "    <tr>\n",
              "      <th>199604</th>\n",
              "      <td>0.0495</td>\n",
              "      <td>0.021646</td>\n",
              "      <td>0.021937</td>\n",
              "      <td>0.052479</td>\n",
              "      <td>0.0069</td>\n",
              "      <td>0.021122</td>\n",
              "      <td>0.000068</td>\n",
              "      <td>10.918662</td>\n",
              "      <td>0.007574</td>\n",
              "      <td>14.1619</td>\n",
              "      <td>0.312246</td>\n",
              "      <td>0.032744</td>\n",
              "      <td>-3.010416</td>\n",
              "      <td>0.021702</td>\n",
              "      <td>1.070281</td>\n",
              "      <td>0.220330</td>\n",
              "      <td>2.902353</td>\n",
              "    </tr>\n",
              "    <tr>\n",
              "      <th>199605</th>\n",
              "      <td>0.0502</td>\n",
              "      <td>0.021247</td>\n",
              "      <td>0.021732</td>\n",
              "      <td>0.051740</td>\n",
              "      <td>0.0068</td>\n",
              "      <td>0.026419</td>\n",
              "      <td>-0.000255</td>\n",
              "      <td>9.828647</td>\n",
              "      <td>0.006154</td>\n",
              "      <td>14.2560</td>\n",
              "      <td>0.336702</td>\n",
              "      <td>0.040774</td>\n",
              "      <td>-3.026758</td>\n",
              "      <td>0.022777</td>\n",
              "      <td>1.070281</td>\n",
              "      <td>0.222311</td>\n",
              "      <td>2.931294</td>\n",
              "    </tr>\n",
              "  </tbody>\n",
              "</table>\n",
              "</div>"
            ],
            "text/plain": [
              "           tbl       d/p       d/y       e/p     dfy      ntis       csp  \\\n",
              "yyyymm                                                                     \n",
              "199601  0.0500  0.021844  0.022557  0.053436  0.0066  0.016128 -0.000053   \n",
              "199602  0.0483  0.021858  0.022010  0.053110  0.0064  0.016801 -0.000228   \n",
              "199603  0.0496  0.021850  0.022023  0.052734  0.0068  0.016892  0.000031   \n",
              "199604  0.0495  0.021646  0.021937  0.052479  0.0069  0.021122  0.000068   \n",
              "199605  0.0502  0.021247  0.021732  0.051740  0.0068  0.026419 -0.000255   \n",
              "\n",
              "               vp    impvar      vrp      sntm      skvw      ygap     rsvix  \\\n",
              "yyyymm                                                                         \n",
              "199601   3.609275  0.005112   6.2807  0.526699  0.045017 -2.984223  0.013360   \n",
              "199602   8.057655  0.007465  15.4671  0.428522  0.036731 -2.991862  0.026520   \n",
              "199603  16.592991  0.005754  18.9536  0.462212 -0.016471 -3.003302  0.029856   \n",
              "199604  10.918662  0.007574  14.1619  0.312246  0.032744 -3.010416  0.021702   \n",
              "199605   9.828647  0.006154  14.2560  0.336702  0.040774 -3.026758  0.022777   \n",
              "\n",
              "            tchi    avgcor     disag  \n",
              "yyyymm                                \n",
              "199601  1.070281  0.149977  2.871780  \n",
              "199602  1.070281  0.186248  2.829952  \n",
              "199603  1.070281  0.218431  2.908487  \n",
              "199604  1.070281  0.220330  2.902353  \n",
              "199605  1.070281  0.222311  2.931294  "
            ]
          },
          "execution_count": 93,
          "metadata": {},
          "output_type": "execute_result"
        }
      ],
      "source": [
        "rhokeep = rho.loc[np.abs(rho)>.15]\n",
        "Xsub=X[rhokeep.index]\n",
        "Xsub.head()"
      ]
    },
    {
      "cell_type": "code",
      "execution_count": null,
      "metadata": {
        "scrolled": true,
        "id": "Hy8PIYSfvH6U",
        "outputId": "2a3527a5-6f24-4d81-fdbe-9eee34bbfb49"
      },
      "outputs": [
        {
          "name": "stdout",
          "output_type": "stream",
          "text": [
            "                            OLS Regression Results                            \n",
            "==============================================================================\n",
            "Dep. Variable:                    ret   R-squared:                       0.422\n",
            "Model:                            OLS   Adj. R-squared:                  0.274\n",
            "Method:                 Least Squares   F-statistic:                     2.840\n",
            "Date:                Wed, 30 Oct 2024   Prob (F-statistic):            0.00126\n",
            "Time:                        00:26:10   Log-Likelihood:                 153.97\n",
            "No. Observations:                  84   AIC:                            -271.9\n",
            "Df Residuals:                      66   BIC:                            -228.2\n",
            "Df Model:                          17                                         \n",
            "Covariance Type:            nonrobust                                         \n",
            "==============================================================================\n",
            "                 coef    std err          t      P>|t|      [0.025      0.975]\n",
            "------------------------------------------------------------------------------\n",
            "const          0.9465      1.288      0.735      0.465      -1.625       3.518\n",
            "tbl           -2.4692      2.007     -1.230      0.223      -6.477       1.538\n",
            "d/p           -4.8623     12.920     -0.376      0.708     -30.657      20.933\n",
            "d/y           -5.5342      9.120     -0.607      0.546     -23.742      12.674\n",
            "e/p           -0.2822      9.155     -0.031      0.976     -18.561      17.997\n",
            "dfy           10.6841      5.340      2.001      0.050       0.023      21.346\n",
            "ntis          -0.0433      1.079     -0.040      0.968      -2.197       2.111\n",
            "csp           49.6890     11.196      4.438      0.000      27.336      72.042\n",
            "vp             0.0009      0.001      0.675      0.502      -0.002       0.003\n",
            "impvar         6.1648      4.424      1.393      0.168      -2.669      14.998\n",
            "vrp        -1.779e-05      0.001     -0.026      0.979      -0.001       0.001\n",
            "sntm           0.0350      0.041      0.861      0.392      -0.046       0.116\n",
            "skvw          -0.2356      0.176     -1.339      0.185      -0.587       0.116\n",
            "ygap           0.1946      0.289      0.672      0.504      -0.383       0.772\n",
            "rsvix         -0.4904      0.666     -0.737      0.464      -1.819       0.839\n",
            "tchi          -0.0087      0.010     -0.897      0.373      -0.028       0.011\n",
            "avgcor         0.0511      0.103      0.495      0.622      -0.155       0.257\n",
            "disag         -0.0251      0.026     -0.985      0.328      -0.076       0.026\n",
            "==============================================================================\n",
            "Omnibus:                        1.554   Durbin-Watson:                   1.893\n",
            "Prob(Omnibus):                  0.460   Jarque-Bera (JB):                0.991\n",
            "Skew:                          -0.226   Prob(JB):                        0.609\n",
            "Kurtosis:                       3.282   Cond. No.                     1.34e+05\n",
            "==============================================================================\n",
            "\n",
            "Notes:\n",
            "[1] Standard Errors assume that the covariance matrix of the errors is correctly specified.\n",
            "[2] The condition number is large, 1.34e+05. This might indicate that there are\n",
            "strong multicollinearity or other numerical problems.\n"
          ]
        }
      ],
      "source": [
        "results6 = sm.OLS(Y, sm.add_constant(Xsub)).fit()\n",
        "print(results6.summary())"
      ]
    },
    {
      "cell_type": "code",
      "execution_count": null,
      "metadata": {
        "id": "6-Z5dybjvH6U",
        "outputId": "e2cf48f6-c39e-4ba8-8263-93a51c1f4a8f"
      },
      "outputs": [
        {
          "data": {
            "text/html": [
              "<div>\n",
              "<style scoped>\n",
              "    .dataframe tbody tr th:only-of-type {\n",
              "        vertical-align: middle;\n",
              "    }\n",
              "\n",
              "    .dataframe tbody tr th {\n",
              "        vertical-align: top;\n",
              "    }\n",
              "\n",
              "    .dataframe thead th {\n",
              "        text-align: right;\n",
              "    }\n",
              "</style>\n",
              "<table border=\"1\" class=\"dataframe\">\n",
              "  <thead>\n",
              "    <tr style=\"text-align: right;\">\n",
              "      <th></th>\n",
              "      <th>tbl</th>\n",
              "      <th>d/p</th>\n",
              "      <th>d/y</th>\n",
              "      <th>e/p</th>\n",
              "      <th>dfy</th>\n",
              "      <th>ntis</th>\n",
              "      <th>csp</th>\n",
              "      <th>vp</th>\n",
              "      <th>impvar</th>\n",
              "      <th>vrp</th>\n",
              "      <th>sntm</th>\n",
              "      <th>skvw</th>\n",
              "      <th>ygap</th>\n",
              "      <th>rsvix</th>\n",
              "      <th>tchi</th>\n",
              "      <th>avgcor</th>\n",
              "      <th>disag</th>\n",
              "    </tr>\n",
              "  </thead>\n",
              "  <tbody>\n",
              "    <tr>\n",
              "      <th>tbl</th>\n",
              "      <td>1.000000</td>\n",
              "      <td>-0.080460</td>\n",
              "      <td>-0.038278</td>\n",
              "      <td>0.590961</td>\n",
              "      <td>-0.843705</td>\n",
              "      <td>-0.161503</td>\n",
              "      <td>0.755480</td>\n",
              "      <td>-0.241114</td>\n",
              "      <td>0.296421</td>\n",
              "      <td>-0.068618</td>\n",
              "      <td>0.331612</td>\n",
              "      <td>0.097674</td>\n",
              "      <td>0.641430</td>\n",
              "      <td>-0.279658</td>\n",
              "      <td>0.615944</td>\n",
              "      <td>-0.534876</td>\n",
              "      <td>0.116341</td>\n",
              "    </tr>\n",
              "    <tr>\n",
              "      <th>d/p</th>\n",
              "      <td>-0.080460</td>\n",
              "      <td>1.000000</td>\n",
              "      <td>0.972416</td>\n",
              "      <td>0.733903</td>\n",
              "      <td>-0.102859</td>\n",
              "      <td>0.518388</td>\n",
              "      <td>-0.019255</td>\n",
              "      <td>-0.084143</td>\n",
              "      <td>-0.163573</td>\n",
              "      <td>0.004912</td>\n",
              "      <td>0.590043</td>\n",
              "      <td>-0.173147</td>\n",
              "      <td>0.671119</td>\n",
              "      <td>-0.091430</td>\n",
              "      <td>0.270018</td>\n",
              "      <td>0.306679</td>\n",
              "      <td>-0.830206</td>\n",
              "    </tr>\n",
              "    <tr>\n",
              "      <th>d/y</th>\n",
              "      <td>-0.038278</td>\n",
              "      <td>0.972416</td>\n",
              "      <td>1.000000</td>\n",
              "      <td>0.739394</td>\n",
              "      <td>-0.145176</td>\n",
              "      <td>0.502968</td>\n",
              "      <td>0.046338</td>\n",
              "      <td>-0.136974</td>\n",
              "      <td>-0.216103</td>\n",
              "      <td>-0.070829</td>\n",
              "      <td>0.630698</td>\n",
              "      <td>-0.081861</td>\n",
              "      <td>0.677199</td>\n",
              "      <td>-0.195913</td>\n",
              "      <td>0.340885</td>\n",
              "      <td>0.292811</td>\n",
              "      <td>-0.830116</td>\n",
              "    </tr>\n",
              "    <tr>\n",
              "      <th>e/p</th>\n",
              "      <td>0.590961</td>\n",
              "      <td>0.733903</td>\n",
              "      <td>0.739394</td>\n",
              "      <td>1.000000</td>\n",
              "      <td>-0.626858</td>\n",
              "      <td>0.230568</td>\n",
              "      <td>0.461814</td>\n",
              "      <td>-0.240550</td>\n",
              "      <td>0.038001</td>\n",
              "      <td>-0.078795</td>\n",
              "      <td>0.641248</td>\n",
              "      <td>-0.067955</td>\n",
              "      <td>0.989249</td>\n",
              "      <td>-0.252469</td>\n",
              "      <td>0.557505</td>\n",
              "      <td>-0.100326</td>\n",
              "      <td>-0.553597</td>\n",
              "    </tr>\n",
              "    <tr>\n",
              "      <th>dfy</th>\n",
              "      <td>-0.843705</td>\n",
              "      <td>-0.102859</td>\n",
              "      <td>-0.145176</td>\n",
              "      <td>-0.626858</td>\n",
              "      <td>1.000000</td>\n",
              "      <td>0.069354</td>\n",
              "      <td>-0.697828</td>\n",
              "      <td>0.114044</td>\n",
              "      <td>-0.257314</td>\n",
              "      <td>-0.106860</td>\n",
              "      <td>-0.544701</td>\n",
              "      <td>-0.024202</td>\n",
              "      <td>-0.663197</td>\n",
              "      <td>0.218963</td>\n",
              "      <td>-0.660371</td>\n",
              "      <td>0.329597</td>\n",
              "      <td>0.168047</td>\n",
              "    </tr>\n",
              "    <tr>\n",
              "      <th>ntis</th>\n",
              "      <td>-0.161503</td>\n",
              "      <td>0.518388</td>\n",
              "      <td>0.502968</td>\n",
              "      <td>0.230568</td>\n",
              "      <td>0.069354</td>\n",
              "      <td>1.000000</td>\n",
              "      <td>-0.058960</td>\n",
              "      <td>0.110921</td>\n",
              "      <td>0.103933</td>\n",
              "      <td>0.149049</td>\n",
              "      <td>0.580857</td>\n",
              "      <td>-0.037260</td>\n",
              "      <td>0.203536</td>\n",
              "      <td>0.109682</td>\n",
              "      <td>0.401921</td>\n",
              "      <td>0.372811</td>\n",
              "      <td>-0.413365</td>\n",
              "    </tr>\n",
              "    <tr>\n",
              "      <th>csp</th>\n",
              "      <td>0.755480</td>\n",
              "      <td>-0.019255</td>\n",
              "      <td>0.046338</td>\n",
              "      <td>0.461814</td>\n",
              "      <td>-0.697828</td>\n",
              "      <td>-0.058960</td>\n",
              "      <td>1.000000</td>\n",
              "      <td>-0.397064</td>\n",
              "      <td>0.033457</td>\n",
              "      <td>-0.199712</td>\n",
              "      <td>0.288028</td>\n",
              "      <td>0.239324</td>\n",
              "      <td>0.452391</td>\n",
              "      <td>-0.459774</td>\n",
              "      <td>0.631220</td>\n",
              "      <td>-0.505751</td>\n",
              "      <td>0.086957</td>\n",
              "    </tr>\n",
              "    <tr>\n",
              "      <th>vp</th>\n",
              "      <td>-0.241114</td>\n",
              "      <td>-0.084143</td>\n",
              "      <td>-0.136974</td>\n",
              "      <td>-0.240550</td>\n",
              "      <td>0.114044</td>\n",
              "      <td>0.110921</td>\n",
              "      <td>-0.397064</td>\n",
              "      <td>1.000000</td>\n",
              "      <td>0.711592</td>\n",
              "      <td>0.825376</td>\n",
              "      <td>0.054688</td>\n",
              "      <td>-0.514328</td>\n",
              "      <td>-0.186297</td>\n",
              "      <td>0.892326</td>\n",
              "      <td>-0.248314</td>\n",
              "      <td>0.532261</td>\n",
              "      <td>0.071716</td>\n",
              "    </tr>\n",
              "    <tr>\n",
              "      <th>impvar</th>\n",
              "      <td>0.296421</td>\n",
              "      <td>-0.163573</td>\n",
              "      <td>-0.216103</td>\n",
              "      <td>0.038001</td>\n",
              "      <td>-0.257314</td>\n",
              "      <td>0.103933</td>\n",
              "      <td>0.033457</td>\n",
              "      <td>0.711592</td>\n",
              "      <td>1.000000</td>\n",
              "      <td>0.622557</td>\n",
              "      <td>0.201547</td>\n",
              "      <td>-0.381874</td>\n",
              "      <td>0.118444</td>\n",
              "      <td>0.724563</td>\n",
              "      <td>0.098662</td>\n",
              "      <td>0.217109</td>\n",
              "      <td>0.196712</td>\n",
              "    </tr>\n",
              "    <tr>\n",
              "      <th>vrp</th>\n",
              "      <td>-0.068618</td>\n",
              "      <td>0.004912</td>\n",
              "      <td>-0.070829</td>\n",
              "      <td>-0.078795</td>\n",
              "      <td>-0.106860</td>\n",
              "      <td>0.149049</td>\n",
              "      <td>-0.199712</td>\n",
              "      <td>0.825376</td>\n",
              "      <td>0.622557</td>\n",
              "      <td>1.000000</td>\n",
              "      <td>0.197748</td>\n",
              "      <td>-0.609329</td>\n",
              "      <td>-0.050100</td>\n",
              "      <td>0.697528</td>\n",
              "      <td>0.024245</td>\n",
              "      <td>0.330822</td>\n",
              "      <td>-0.084189</td>\n",
              "    </tr>\n",
              "    <tr>\n",
              "      <th>sntm</th>\n",
              "      <td>0.331612</td>\n",
              "      <td>0.590043</td>\n",
              "      <td>0.630698</td>\n",
              "      <td>0.641248</td>\n",
              "      <td>-0.544701</td>\n",
              "      <td>0.580857</td>\n",
              "      <td>0.288028</td>\n",
              "      <td>0.054688</td>\n",
              "      <td>0.201547</td>\n",
              "      <td>0.197748</td>\n",
              "      <td>1.000000</td>\n",
              "      <td>-0.028057</td>\n",
              "      <td>0.648800</td>\n",
              "      <td>-0.053685</td>\n",
              "      <td>0.768039</td>\n",
              "      <td>0.267868</td>\n",
              "      <td>-0.684709</td>\n",
              "    </tr>\n",
              "    <tr>\n",
              "      <th>skvw</th>\n",
              "      <td>0.097674</td>\n",
              "      <td>-0.173147</td>\n",
              "      <td>-0.081861</td>\n",
              "      <td>-0.067955</td>\n",
              "      <td>-0.024202</td>\n",
              "      <td>-0.037260</td>\n",
              "      <td>0.239324</td>\n",
              "      <td>-0.514328</td>\n",
              "      <td>-0.381874</td>\n",
              "      <td>-0.609329</td>\n",
              "      <td>-0.028057</td>\n",
              "      <td>1.000000</td>\n",
              "      <td>-0.063729</td>\n",
              "      <td>-0.544357</td>\n",
              "      <td>0.088223</td>\n",
              "      <td>-0.246655</td>\n",
              "      <td>0.124599</td>\n",
              "    </tr>\n",
              "    <tr>\n",
              "      <th>ygap</th>\n",
              "      <td>0.641430</td>\n",
              "      <td>0.671119</td>\n",
              "      <td>0.677199</td>\n",
              "      <td>0.989249</td>\n",
              "      <td>-0.663197</td>\n",
              "      <td>0.203536</td>\n",
              "      <td>0.452391</td>\n",
              "      <td>-0.186297</td>\n",
              "      <td>0.118444</td>\n",
              "      <td>-0.050100</td>\n",
              "      <td>0.648800</td>\n",
              "      <td>-0.063729</td>\n",
              "      <td>1.000000</td>\n",
              "      <td>-0.192470</td>\n",
              "      <td>0.553911</td>\n",
              "      <td>-0.083882</td>\n",
              "      <td>-0.501708</td>\n",
              "    </tr>\n",
              "    <tr>\n",
              "      <th>rsvix</th>\n",
              "      <td>-0.279658</td>\n",
              "      <td>-0.091430</td>\n",
              "      <td>-0.195913</td>\n",
              "      <td>-0.252469</td>\n",
              "      <td>0.218963</td>\n",
              "      <td>0.109682</td>\n",
              "      <td>-0.459774</td>\n",
              "      <td>0.892326</td>\n",
              "      <td>0.724563</td>\n",
              "      <td>0.697528</td>\n",
              "      <td>-0.053685</td>\n",
              "      <td>-0.544357</td>\n",
              "      <td>-0.192470</td>\n",
              "      <td>1.000000</td>\n",
              "      <td>-0.374711</td>\n",
              "      <td>0.538787</td>\n",
              "      <td>0.139758</td>\n",
              "    </tr>\n",
              "    <tr>\n",
              "      <th>tchi</th>\n",
              "      <td>0.615944</td>\n",
              "      <td>0.270018</td>\n",
              "      <td>0.340885</td>\n",
              "      <td>0.557505</td>\n",
              "      <td>-0.660371</td>\n",
              "      <td>0.401921</td>\n",
              "      <td>0.631220</td>\n",
              "      <td>-0.248314</td>\n",
              "      <td>0.098662</td>\n",
              "      <td>0.024245</td>\n",
              "      <td>0.768039</td>\n",
              "      <td>0.088223</td>\n",
              "      <td>0.553911</td>\n",
              "      <td>-0.374711</td>\n",
              "      <td>1.000000</td>\n",
              "      <td>-0.161904</td>\n",
              "      <td>-0.366772</td>\n",
              "    </tr>\n",
              "    <tr>\n",
              "      <th>avgcor</th>\n",
              "      <td>-0.534876</td>\n",
              "      <td>0.306679</td>\n",
              "      <td>0.292811</td>\n",
              "      <td>-0.100326</td>\n",
              "      <td>0.329597</td>\n",
              "      <td>0.372811</td>\n",
              "      <td>-0.505751</td>\n",
              "      <td>0.532261</td>\n",
              "      <td>0.217109</td>\n",
              "      <td>0.330822</td>\n",
              "      <td>0.267868</td>\n",
              "      <td>-0.246655</td>\n",
              "      <td>-0.083882</td>\n",
              "      <td>0.538787</td>\n",
              "      <td>-0.161904</td>\n",
              "      <td>1.000000</td>\n",
              "      <td>-0.364870</td>\n",
              "    </tr>\n",
              "    <tr>\n",
              "      <th>disag</th>\n",
              "      <td>0.116341</td>\n",
              "      <td>-0.830206</td>\n",
              "      <td>-0.830116</td>\n",
              "      <td>-0.553597</td>\n",
              "      <td>0.168047</td>\n",
              "      <td>-0.413365</td>\n",
              "      <td>0.086957</td>\n",
              "      <td>0.071716</td>\n",
              "      <td>0.196712</td>\n",
              "      <td>-0.084189</td>\n",
              "      <td>-0.684709</td>\n",
              "      <td>0.124599</td>\n",
              "      <td>-0.501708</td>\n",
              "      <td>0.139758</td>\n",
              "      <td>-0.366772</td>\n",
              "      <td>-0.364870</td>\n",
              "      <td>1.000000</td>\n",
              "    </tr>\n",
              "  </tbody>\n",
              "</table>\n",
              "</div>"
            ],
            "text/plain": [
              "             tbl       d/p       d/y       e/p       dfy      ntis       csp  \\\n",
              "tbl     1.000000 -0.080460 -0.038278  0.590961 -0.843705 -0.161503  0.755480   \n",
              "d/p    -0.080460  1.000000  0.972416  0.733903 -0.102859  0.518388 -0.019255   \n",
              "d/y    -0.038278  0.972416  1.000000  0.739394 -0.145176  0.502968  0.046338   \n",
              "e/p     0.590961  0.733903  0.739394  1.000000 -0.626858  0.230568  0.461814   \n",
              "dfy    -0.843705 -0.102859 -0.145176 -0.626858  1.000000  0.069354 -0.697828   \n",
              "ntis   -0.161503  0.518388  0.502968  0.230568  0.069354  1.000000 -0.058960   \n",
              "csp     0.755480 -0.019255  0.046338  0.461814 -0.697828 -0.058960  1.000000   \n",
              "vp     -0.241114 -0.084143 -0.136974 -0.240550  0.114044  0.110921 -0.397064   \n",
              "impvar  0.296421 -0.163573 -0.216103  0.038001 -0.257314  0.103933  0.033457   \n",
              "vrp    -0.068618  0.004912 -0.070829 -0.078795 -0.106860  0.149049 -0.199712   \n",
              "sntm    0.331612  0.590043  0.630698  0.641248 -0.544701  0.580857  0.288028   \n",
              "skvw    0.097674 -0.173147 -0.081861 -0.067955 -0.024202 -0.037260  0.239324   \n",
              "ygap    0.641430  0.671119  0.677199  0.989249 -0.663197  0.203536  0.452391   \n",
              "rsvix  -0.279658 -0.091430 -0.195913 -0.252469  0.218963  0.109682 -0.459774   \n",
              "tchi    0.615944  0.270018  0.340885  0.557505 -0.660371  0.401921  0.631220   \n",
              "avgcor -0.534876  0.306679  0.292811 -0.100326  0.329597  0.372811 -0.505751   \n",
              "disag   0.116341 -0.830206 -0.830116 -0.553597  0.168047 -0.413365  0.086957   \n",
              "\n",
              "              vp    impvar       vrp      sntm      skvw      ygap     rsvix  \\\n",
              "tbl    -0.241114  0.296421 -0.068618  0.331612  0.097674  0.641430 -0.279658   \n",
              "d/p    -0.084143 -0.163573  0.004912  0.590043 -0.173147  0.671119 -0.091430   \n",
              "d/y    -0.136974 -0.216103 -0.070829  0.630698 -0.081861  0.677199 -0.195913   \n",
              "e/p    -0.240550  0.038001 -0.078795  0.641248 -0.067955  0.989249 -0.252469   \n",
              "dfy     0.114044 -0.257314 -0.106860 -0.544701 -0.024202 -0.663197  0.218963   \n",
              "ntis    0.110921  0.103933  0.149049  0.580857 -0.037260  0.203536  0.109682   \n",
              "csp    -0.397064  0.033457 -0.199712  0.288028  0.239324  0.452391 -0.459774   \n",
              "vp      1.000000  0.711592  0.825376  0.054688 -0.514328 -0.186297  0.892326   \n",
              "impvar  0.711592  1.000000  0.622557  0.201547 -0.381874  0.118444  0.724563   \n",
              "vrp     0.825376  0.622557  1.000000  0.197748 -0.609329 -0.050100  0.697528   \n",
              "sntm    0.054688  0.201547  0.197748  1.000000 -0.028057  0.648800 -0.053685   \n",
              "skvw   -0.514328 -0.381874 -0.609329 -0.028057  1.000000 -0.063729 -0.544357   \n",
              "ygap   -0.186297  0.118444 -0.050100  0.648800 -0.063729  1.000000 -0.192470   \n",
              "rsvix   0.892326  0.724563  0.697528 -0.053685 -0.544357 -0.192470  1.000000   \n",
              "tchi   -0.248314  0.098662  0.024245  0.768039  0.088223  0.553911 -0.374711   \n",
              "avgcor  0.532261  0.217109  0.330822  0.267868 -0.246655 -0.083882  0.538787   \n",
              "disag   0.071716  0.196712 -0.084189 -0.684709  0.124599 -0.501708  0.139758   \n",
              "\n",
              "            tchi    avgcor     disag  \n",
              "tbl     0.615944 -0.534876  0.116341  \n",
              "d/p     0.270018  0.306679 -0.830206  \n",
              "d/y     0.340885  0.292811 -0.830116  \n",
              "e/p     0.557505 -0.100326 -0.553597  \n",
              "dfy    -0.660371  0.329597  0.168047  \n",
              "ntis    0.401921  0.372811 -0.413365  \n",
              "csp     0.631220 -0.505751  0.086957  \n",
              "vp     -0.248314  0.532261  0.071716  \n",
              "impvar  0.098662  0.217109  0.196712  \n",
              "vrp     0.024245  0.330822 -0.084189  \n",
              "sntm    0.768039  0.267868 -0.684709  \n",
              "skvw    0.088223 -0.246655  0.124599  \n",
              "ygap    0.553911 -0.083882 -0.501708  \n",
              "rsvix  -0.374711  0.538787  0.139758  \n",
              "tchi    1.000000 -0.161904 -0.366772  \n",
              "avgcor -0.161904  1.000000 -0.364870  \n",
              "disag  -0.366772 -0.364870  1.000000  "
            ]
          },
          "execution_count": 95,
          "metadata": {},
          "output_type": "execute_result"
        }
      ],
      "source": [
        "Xsub.corr()"
      ]
    },
    {
      "cell_type": "markdown",
      "metadata": {
        "id": "Rwi1eaP5vH6V"
      },
      "source": [
        "We can see a lot of very correlated regressors in here. Something like principle components could be one way to distill this list down to a smaller handful of regressors while maintaining high r-squared."
      ]
    },
    {
      "cell_type": "code",
      "execution_count": null,
      "metadata": {
        "id": "7b9dAgApvH6V"
      },
      "outputs": [],
      "source": []
    }
  ],
  "metadata": {
    "kernelspec": {
      "display_name": "Python 3",
      "language": "python",
      "name": "python3"
    },
    "language_info": {
      "codemirror_mode": {
        "name": "ipython",
        "version": 3
      },
      "file_extension": ".py",
      "mimetype": "text/x-python",
      "name": "python",
      "nbconvert_exporter": "python",
      "pygments_lexer": "ipython3",
      "version": "3.8.8"
    },
    "toc": {
      "base_numbering": 1,
      "nav_menu": {},
      "number_sections": true,
      "sideBar": true,
      "skip_h1_title": false,
      "title_cell": "Table of Contents",
      "title_sidebar": "Contents",
      "toc_cell": false,
      "toc_position": {},
      "toc_section_display": true,
      "toc_window_display": false
    },
    "colab": {
      "provenance": []
    }
  },
  "nbformat": 4,
  "nbformat_minor": 0
}